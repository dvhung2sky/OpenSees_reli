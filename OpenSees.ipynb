{
 "cells": [
  {
   "cell_type": "code",
   "execution_count": 5,
   "metadata": {},
   "outputs": [
    {
     "name": "stderr",
     "output_type": "stream",
     "text": [
      "\n",
      "\n",
      "         OpenSees -- Open System For Earthquake Engineering Simulation\n",
      "                 Pacific Earthquake Engineering Research Center\n",
      "                        Version 3.2.0 64-Bit\n",
      "\n",
      "      (c) Copyright 1999-2016 The Regents of the University of California\n",
      "                              All Rights Reserved\n",
      "  (Copyright and Disclaimer @ http://www.berkeley.edu/OpenSees/copyright.html)\n",
      "\n",
      "\n",
      "Model Built\n"
     ]
    }
   ],
   "source": [
    "!OpenSees Ex5.Frame2D.build.InelasticFiberWSection.tcl"
   ]
  },
  {
   "cell_type": "code",
   "execution_count": null,
   "metadata": {},
   "outputs": [],
   "source": [
    "!OpenSees story_3D.tcl"
   ]
  },
  {
   "cell_type": "code",
   "execution_count": 19,
   "metadata": {
    "scrolled": false
   },
   "outputs": [
    {
     "name": "stderr",
     "output_type": "stream",
     "text": [
      "\n",
      "\n",
      "         OpenSees -- Open System For Earthquake Engineering Simulation\n",
      "                 Pacific Earthquake Engineering Research Center\n",
      "                        Version 3.2.0 64-Bit\n",
      "\n",
      "      (c) Copyright 1999-2016 The Regents of the University of California\n",
      "                              All Rights Reserved\n",
      "  (Copyright and Disclaimer @ http://www.berkeley.edu/OpenSees/copyright.html)\n",
      "\n",
      "\n",
      "Number of Stories in Y: 3; Number of bays in X: 1; Number of bays in Z: 1\n",
      "WARNING - no torsion specified for 3D fiber section, use -GJ or -torsion\n",
      "\n",
      "FiberSection3d: 4\n",
      "\n",
      "    while executing\n",
      "\"section fiberSec $id {\n",
      "\t\t# Define the core patch\n",
      "\t\tpatch quadr $coreID $nfCoreZ $nfCoreY -$coreY $coreZ -$coreY -$coreZ $coreY -$coreZ $coreY $coreZ\n",
      "\t...\"\n",
      "    (procedure \"BuildRCrectSection\" line 75)\n",
      "    invoked from within\n",
      "\"BuildRCrectSection $ColSecTagFiber $HCol $BCol $cover $cover $IDconcCore  $IDconcCover $IDSteel $numBarsTopCol $barAreaTopCol $numBarsBotCol $barAreaB...\"\n",
      "    invoked from within\n",
      "\"if {$SectionType == \"Elastic\"} {\n",
      "\t# material properties:\n",
      "\tset fc 4000*$psi;\t\t\t# concrete nominal compressive strength\n",
      "\tset Ec [expr 57*$ksi*pow($fc/$p...\"\n",
      "    (file \"3D_storyRC.tcl\" line 112)\n"
     ]
    }
   ],
   "source": [
    "!OpenSees 3D_storyRC.tcl"
   ]
  },
  {
   "cell_type": "code",
   "execution_count": 5,
   "metadata": {},
   "outputs": [
    {
     "name": "stderr",
     "output_type": "stream",
     "text": [
      "\n",
      "\n",
      "         OpenSees -- Open System For Earthquake Engineering Simulation\n",
      "                 Pacific Earthquake Engineering Research Center\n",
      "                        Version 3.2.0 64-Bit\n",
      "\n",
      "      (c) Copyright 1999-2016 The Regents of the University of California\n",
      "                              All Rights Reserved\n",
      "  (Copyright and Disclaimer @ http://www.berkeley.edu/OpenSees/copyright.html)\n",
      "\n",
      "\n",
      "Model Built\n"
     ]
    }
   ],
   "source": [
    "!OpenSees 3story_RC.tcl"
   ]
  },
  {
   "cell_type": "code",
   "execution_count": 4,
   "metadata": {},
   "outputs": [
    {
     "name": "stderr",
     "output_type": "stream",
     "text": [
      "\n",
      "\n",
      "         OpenSees -- Open System For Earthquake Engineering Simulation\n",
      "                 Pacific Earthquake Engineering Research Center\n",
      "                        Version 3.2.0 64-Bit\n",
      "\n",
      "      (c) Copyright 1999-2016 The Regents of the University of California\n",
      "                              All Rights Reserved\n",
      "  (Copyright and Disclaimer @ http://www.berkeley.edu/OpenSees/copyright.html)\n",
      "\n",
      "\n",
      "Model Built\n"
     ]
    }
   ],
   "source": [
    "!OpenSees 3story.tcl"
   ]
  },
  {
   "cell_type": "code",
   "execution_count": null,
   "metadata": {},
   "outputs": [],
   "source": []
  },
  {
   "cell_type": "code",
   "execution_count": null,
   "metadata": {},
   "outputs": [],
   "source": []
  },
  {
   "cell_type": "code",
   "execution_count": 3,
   "metadata": {},
   "outputs": [
    {
     "name": "stderr",
     "output_type": "stream",
     "text": [
      "\n",
      "\n",
      "         OpenSees -- Open System For Earthquake Engineering Simulation\n",
      "                 Pacific Earthquake Engineering Research Center\n",
      "                        Version 3.2.0 64-Bit\n",
      "\n",
      "      (c) Copyright 1999-2016 The Regents of the University of California\n",
      "                              All Rights Reserved\n",
      "  (Copyright and Disclaimer @ http://www.berkeley.edu/OpenSees/copyright.html)\n",
      "\n",
      "\n",
      "Model Built\n",
      "Ground Motion Done. End Time: 10.000000\n"
     ]
    }
   ],
   "source": [
    "!OpenSees frame_sin_2.tcl"
   ]
  },
  {
   "cell_type": "code",
   "execution_count": null,
   "metadata": {},
   "outputs": [],
   "source": []
  },
  {
   "cell_type": "code",
   "execution_count": null,
   "metadata": {},
   "outputs": [],
   "source": []
  },
  {
   "cell_type": "code",
   "execution_count": null,
   "metadata": {},
   "outputs": [],
   "source": [
    "!OpenSees cantiEQ.tcl"
   ]
  },
  {
   "cell_type": "code",
   "execution_count": null,
   "metadata": {},
   "outputs": [],
   "source": [
    "!OpenSees canti.tcl"
   ]
  },
  {
   "cell_type": "code",
   "execution_count": null,
   "metadata": {},
   "outputs": [],
   "source": [
    "node displacement:             99.99999999999859312538            -0.00000005677785663591            -0.34722222222221732491\n",
    "reaction:         -16987.36496913556402432732          2000.00000000000000000000       7338541.66666656360030174255"
   ]
  },
  {
   "cell_type": "code",
   "execution_count": null,
   "metadata": {},
   "outputs": [],
   "source": []
  },
  {
   "cell_type": "code",
   "execution_count": null,
   "metadata": {},
   "outputs": [],
   "source": [
    "!OpenSees eigen2.tcl"
   ]
  },
  {
   "cell_type": "code",
   "execution_count": null,
   "metadata": {},
   "outputs": [],
   "source": []
  },
  {
   "cell_type": "code",
   "execution_count": null,
   "metadata": {},
   "outputs": [],
   "source": []
  },
  {
   "cell_type": "code",
   "execution_count": null,
   "metadata": {},
   "outputs": [],
   "source": [
    "!OpenSees ElasticFrame.tcl"
   ]
  },
  {
   "cell_type": "code",
   "execution_count": null,
   "metadata": {},
   "outputs": [],
   "source": [
    "!OpenSees eigen.tcl"
   ]
  },
  {
   "cell_type": "code",
   "execution_count": null,
   "metadata": {},
   "outputs": [],
   "source": []
  },
  {
   "cell_type": "code",
   "execution_count": null,
   "metadata": {},
   "outputs": [],
   "source": []
  },
  {
   "cell_type": "code",
   "execution_count": null,
   "metadata": {
    "scrolled": false
   },
   "outputs": [],
   "source": [
    "!OpenSees RCFramePushover.tcl"
   ]
  },
  {
   "cell_type": "code",
   "execution_count": null,
   "metadata": {},
   "outputs": [],
   "source": [
    "node displacement:             15.09999999999996234124             1.06172383815547677344            -0.01018489985206459496"
   ]
  },
  {
   "cell_type": "code",
   "execution_count": null,
   "metadata": {},
   "outputs": [],
   "source": [
    "!OpenSees story2.tcl"
   ]
  },
  {
   "cell_type": "code",
   "execution_count": null,
   "metadata": {},
   "outputs": [],
   "source": []
  },
  {
   "cell_type": "code",
   "execution_count": null,
   "metadata": {},
   "outputs": [],
   "source": []
  },
  {
   "cell_type": "code",
   "execution_count": null,
   "metadata": {},
   "outputs": [],
   "source": []
  },
  {
   "cell_type": "code",
   "execution_count": null,
   "metadata": {},
   "outputs": [],
   "source": [
    "node 2 displacement:              0.00038655051328135572            -0.00027708746091255240            -0.00095568782782323443"
   ]
  },
  {
   "cell_type": "code",
   "execution_count": null,
   "metadata": {},
   "outputs": [],
   "source": [
    "!OpenSees bay1.tcl"
   ]
  },
  {
   "cell_type": "code",
   "execution_count": null,
   "metadata": {},
   "outputs": [],
   "source": [
    "node 2 displacement:              0.00049206014326490808            -0.00013810007167468273            -0.00231273016181895476"
   ]
  },
  {
   "cell_type": "code",
   "execution_count": null,
   "metadata": {},
   "outputs": [],
   "source": []
  },
  {
   "cell_type": "code",
   "execution_count": null,
   "metadata": {},
   "outputs": [],
   "source": []
  },
  {
   "cell_type": "code",
   "execution_count": null,
   "metadata": {},
   "outputs": [],
   "source": [
    "!OpenSees bay1.tcl"
   ]
  },
  {
   "cell_type": "code",
   "execution_count": null,
   "metadata": {},
   "outputs": [],
   "source": []
  },
  {
   "cell_type": "code",
   "execution_count": null,
   "metadata": {},
   "outputs": [],
   "source": []
  },
  {
   "cell_type": "code",
   "execution_count": null,
   "metadata": {},
   "outputs": [],
   "source": [
    "!OpenSees valid.tcl"
   ]
  },
  {
   "cell_type": "code",
   "execution_count": null,
   "metadata": {},
   "outputs": [],
   "source": [
    "32.35e-3"
   ]
  },
  {
   "cell_type": "code",
   "execution_count": null,
   "metadata": {},
   "outputs": [],
   "source": [
    "i=1\n",
    "!OpenSees f\"example_{i}.tcl\""
   ]
  },
  {
   "cell_type": "code",
   "execution_count": null,
   "metadata": {},
   "outputs": [],
   "source": [
    "!OpenSees example.tcl"
   ]
  },
  {
   "cell_type": "code",
   "execution_count": null,
   "metadata": {},
   "outputs": [],
   "source": [
    "!OpenSees frame.tcl"
   ]
  },
  {
   "cell_type": "code",
   "execution_count": null,
   "metadata": {
    "scrolled": true
   },
   "outputs": [],
   "source": [
    "!OpenSees truss_m.tcl"
   ]
  },
  {
   "cell_type": "code",
   "execution_count": null,
   "metadata": {},
   "outputs": [],
   "source": [
    "#in to m : 1 in = 0.0254 m\n",
    "0.53009277713228375450*0.0254 "
   ]
  },
  {
   "cell_type": "code",
   "execution_count": null,
   "metadata": {},
   "outputs": [],
   "source": [
    "-0.17789363846931768864*c"
   ]
  },
  {
   "cell_type": "code",
   "execution_count": null,
   "metadata": {},
   "outputs": [],
   "source": [
    "c = 0.0254"
   ]
  },
  {
   "cell_type": "code",
   "execution_count": null,
   "metadata": {},
   "outputs": [],
   "source": [
    "96*c"
   ]
  },
  {
   "cell_type": "code",
   "execution_count": null,
   "metadata": {},
   "outputs": [],
   "source": [
    "10.0*c*c/2"
   ]
  },
  {
   "cell_type": "code",
   "execution_count": null,
   "metadata": {},
   "outputs": [],
   "source": [
    "cf = 4448.2216"
   ]
  },
  {
   "cell_type": "code",
   "execution_count": null,
   "metadata": {},
   "outputs": [],
   "source": [
    "50*cf"
   ]
  },
  {
   "cell_type": "code",
   "execution_count": null,
   "metadata": {},
   "outputs": [],
   "source": [
    "3000 *cf / c**2"
   ]
  },
  {
   "cell_type": "code",
   "execution_count": null,
   "metadata": {},
   "outputs": [],
   "source": []
  }
 ],
 "metadata": {
  "kernelspec": {
   "display_name": "Python 3",
   "language": "python",
   "name": "python3"
  },
  "language_info": {
   "codemirror_mode": {
    "name": "ipython",
    "version": 3
   },
   "file_extension": ".py",
   "mimetype": "text/x-python",
   "name": "python",
   "nbconvert_exporter": "python",
   "pygments_lexer": "ipython3",
   "version": "3.6.5"
  }
 },
 "nbformat": 4,
 "nbformat_minor": 2
}
